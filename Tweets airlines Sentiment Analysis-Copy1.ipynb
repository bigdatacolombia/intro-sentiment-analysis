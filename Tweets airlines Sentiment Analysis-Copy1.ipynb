{
 "cells": [
  {
   "cell_type": "markdown",
   "metadata": {},
   "source": [
    "# Learning with Keras \n",
    "----------------------------------------------------\n",
    "This is a demo of a Binary classification, I apply all encoding techniches que you already know, we are no looking to do a bag of words instead we are trying to figureout the sequence of words, order matter in a sentences and in particular in Sentiment analysis"
   ]
  },
  {
   "cell_type": "raw",
   "metadata": {},
   "source": [
    "#########################################################################\n",
    "######## @angelo337 Angelo Rodriguez\n",
    "######## @version: 0.1 \n",
    "######## @ https://bigdatacolombia.slack.com/\n",
    "######## @todo: enhance the code with a embeding could be Glove or Word2Vec\n",
    "######## @see: check http://keras.io for mor references\n",
    "######## ################################################################"
   ]
  },
  {
   "cell_type": "raw",
   "metadata": {},
   "source": [
    "#Copyright 2015 Creangel Ltda. All Rights Reserved.\n",
    "#Licensed under the Apache License, Version 2.0 (the \"License\");\n",
    "#you may not use this file except in compliance with the License.\n",
    "#You may obtain a copy of the License at\n",
    "#    http://www.apache.org/licenses/LICENSE-2.0\n",
    "#Unless required by applicable law or agreed to in writing, software\n",
    "#distributed under the License is distributed on an \"AS IS\" BASIS,\n",
    "#WITHOUT WARRANTIES OR CONDITIONS OF ANY KIND, either express or implied.\n",
    "#See the License for the specific language governing permissions and\n",
    "#limitations under the License.\n",
    "#=============================================================================="
   ]
  },
  {
   "cell_type": "markdown",
   "metadata": {},
   "source": [
    "# Loading tools "
   ]
  },
  {
   "cell_type": "code",
   "execution_count": 263,
   "metadata": {
    "collapsed": true
   },
   "outputs": [],
   "source": [
    "#this is to force to be compatible con Python 3.xx\n",
    "#from __future__ import absolute_import\n",
    "#from __future__ import print_function\n",
    "%matplotlib inline \n",
    "import pandas as pd\n",
    "import numpy as np\n",
    "import matplotlib\n",
    "import matplotlib.pyplot as plt\n",
    " \n",
    "import seaborn as sns\n",
    "import nltk\n",
    "import csv\n",
    "import itertools\n",
    "import operator\n",
    "import unicodedata\n",
    "import nltk\n",
    "import sys\n",
    "import os\n",
    "import time, re\n",
    "from datetime import datetime\n",
    "import collections\n",
    "from bs4 import BeautifulSoup \n",
    "from nltk.stem import SnowballStemmer\n",
    "from nltk.corpus import stopwords\n",
    "stemmer = SnowballStemmer(\"english\")\n"
   ]
  },
  {
   "cell_type": "markdown",
   "metadata": {},
   "source": [
    "## Loading utilities tools to process text"
   ]
  },
  {
   "cell_type": "code",
   "execution_count": 264,
   "metadata": {
    "collapsed": true
   },
   "outputs": [],
   "source": [
    "from sklearn import metrics\n",
    "from sklearn import preprocessing\n",
    "from sklearn.preprocessing import StandardScaler, LabelEncoder\n",
    "from sklearn.metrics import mean_squared_error, classification_report\n",
    "from sklearn.cross_validation import train_test_split"
   ]
  },
  {
   "cell_type": "markdown",
   "metadata": {},
   "source": [
    "## Loading actual Tools and Layers of Deep Learning"
   ]
  },
  {
   "cell_type": "code",
   "execution_count": 265,
   "metadata": {
    "collapsed": false
   },
   "outputs": [],
   "source": [
    "\n",
    "from keras.preprocessing import sequence\n",
    "from keras.utils import np_utils\n",
    "from keras.models import Sequential\n",
    "from keras.layers.core import Dense, Dropout, Activation, Flatten\n",
    "from keras.layers.normalization import BatchNormalization #https://github.com/fchollet/keras/blob/master/examples/kaggle_otto_nn.py\n",
    "from keras.layers.advanced_activations import PReLU, LeakyReLU, ELU, ParametricSoftplus, ThresholdedLinear, ThresholdedReLU\n",
    "from keras.layers.convolutional import Convolution1D, MaxPooling1D\n",
    "from keras.optimizers import SGD\n",
    "from keras.callbacks import History, EarlyStopping\n",
    "from keras.preprocessing.text import Tokenizer\n",
    "\n",
    "# this is to be sure that al results in development are comparable\n",
    "np.random.seed(1337)  # for reproducibility"
   ]
  },
  {
   "cell_type": "markdown",
   "metadata": {},
   "source": [
    "## actual code"
   ]
  },
  {
   "cell_type": "code",
   "execution_count": 266,
   "metadata": {
    "collapsed": true
   },
   "outputs": [],
   "source": [
    "df = pd.read_csv(\"data/Tweets_airline.csv\")\n",
    "vocabulary_size = 0\n",
    "unknown_token = \"UNKNOWN_TOKEN\"\n",
    "sentence_start_token = \"SENTENCE_START\"\n",
    "sentence_end_token = \"SENTENCE_END\"\n",
    "\n",
    "#print (df.shape)\n",
    "#print (df.info())"
   ]
  },
  {
   "cell_type": "markdown",
   "metadata": {},
   "source": [
    "## Some small utilities"
   ]
  },
  {
   "cell_type": "code",
   "execution_count": 267,
   "metadata": {
    "collapsed": false
   },
   "outputs": [
    {
     "name": "stdout",
     "output_type": "stream",
     "text": [
      "An example of a single message: 0                     virginamerica what dhepburn said\n",
      "1    virginamerica plus you ve added commercials to...\n",
      "2    virginamerica i didn t today must mean i need ...\n",
      "3    virginamerica it s really aggressive to blast ...\n",
      "4    virginamerica and it s a really big bad thing ...\n",
      "Name: text, dtype: object\n"
     ]
    }
   ],
   "source": [
    "def cleanword(w):        \n",
    "    return re.sub('[^a-zA-Z0-9,]' , ' ' , w)  \n",
    "\n",
    "def cleantext(review):\n",
    "    review = BeautifulSoup(review ,\"lxml\").get_text()\n",
    "    review_words = cleanword(review.lower()).split()    \n",
    "#    stop = stopwords.words('english')\n",
    "#    stemmed_words = [stemmer.stem(w) for w in review_words if w not in stop]\n",
    "#    return \" \".join(stemmed_words)\n",
    "    return \" \".join(review_words)\n",
    "\n",
    "\n",
    "df[\"text\"]  = df[\"text\"].apply(cleantext)\n",
    "print \"An example of a single message:\", df.head(5)['text']\n"
   ]
  },
  {
   "cell_type": "markdown",
   "metadata": {},
   "source": [
    "## Tokenize all sentences\n",
    "it is a good Idea to tokenize with Keras, instead of bag of words\n"
   ]
  },
  {
   "cell_type": "code",
   "execution_count": 268,
   "metadata": {
    "collapsed": false
   },
   "outputs": [
    {
     "name": "stdout",
     "output_type": "stream",
     "text": [
      "Found 15100 uniq words tokens.\n",
      "Example of a tokenize sentence [u'virginamerica', u'awaiting', u'my', u'return', u'phone', u'call', u',', u'just', u'would', u'prefer', u'to', u'use', u'your', u'online', u'self', u'service', u'option']\n"
     ]
    }
   ],
   "source": [
    "################# ML ##############################################3\n",
    "\n",
    "from sklearn.feature_extraction.text import TfidfVectorizer\n",
    "from sklearn.cross_validation import train_test_split \n",
    "\n",
    "X_clean = df[\"text\"] \n",
    "\n",
    "sentences = X_clean\n",
    "tokenized_sentences = [nltk.word_tokenize(sent) for sent in sentences]\n",
    "word_freq = nltk.FreqDist(itertools.chain(*tokenized_sentences))\n",
    "print \"Found %d uniq words tokens.\" % len(word_freq.items())\n",
    "w_tokens = len(word_freq.items())\n",
    "vocabulary_size = w_tokens +1\n",
    "print \"Example of a tokenize sentence\", tokenized_sentences[33]"
   ]
  },
  {
   "cell_type": "code",
   "execution_count": 269,
   "metadata": {
    "collapsed": false
   },
   "outputs": [
    {
     "name": "stdout",
     "output_type": "stream",
     "text": [
      "using vocabulary size 15101\n",
      "Example of a sequence sentence [2271, 12, 489, 98, 82, 6, 45, 76, 2265, 0, 262, 22, 205, 1953, 46, 490]\n"
     ]
    }
   ],
   "source": [
    "max_words= len(word_freq.items())+1\n",
    "vocab = word_freq.most_common(vocabulary_size-1)\n",
    "index_to_word = [x[0] for x in vocab]\n",
    "index_to_word.append(unknown_token)\n",
    "word_to_index = dict([w,i] for i,w in enumerate(index_to_word))\n",
    "print \"using vocabulary size %d\" % vocabulary_size\n",
    "for i, sent in enumerate (tokenized_sentences):\n",
    "    tokenized_sentences[i] = [w if w in word_to_index else unknown_token for w in sent]\n",
    "X_clean = np.asarray([[word_to_index[w] for w in sent[1:]] for sent in tokenized_sentences])\n",
    "X_clean = np.asarray(X_clean)\n",
    "print \"Example of a sequence sentence\", X_clean[33]\n"
   ]
  },
  {
   "cell_type": "code",
   "execution_count": 270,
   "metadata": {
    "collapsed": false
   },
   "outputs": [
    {
     "name": "stdout",
     "output_type": "stream",
     "text": [
      "Example of a sentiment sentence:  negative\n",
      "Example of a sentiment After Encoder:  0\n",
      "Convert class vector to binary class matrix (for use with categorical_crossentropy)\n",
      "(3, 'classes')\n",
      "Example of a sentiment After categorical Encoder:  [ 1.  0.  0.]\n"
     ]
    }
   ],
   "source": [
    "# LabelEncoder is a utility class to help normalize labels such \n",
    "# that they contain only values between 0 and n_classes-1. \n",
    "le = preprocessing.LabelEncoder()\n",
    "le.fit(df[\"airline_sentiment\"])\n",
    "print \"Example of a sentiment sentence: \", df[\"airline_sentiment\"][33]\n",
    "y = le.transform(df[\"airline_sentiment\"])\n",
    "y = np.asarray(y)\n",
    "print \"Example of a sentiment After Encoder: \",y[33]\n",
    "\n",
    "X_train, X_test, y_train, y_test = train_test_split(X_clean, y, test_size=0.2) #, random_state=42\n",
    "\n",
    "print(\"Convert class vector to binary class matrix (for use with categorical_crossentropy)\")\n",
    "y_train = np.array(y_train, dtype = int)\n",
    "y_test = np.array(y_test, dtype = int)\n",
    "nb_classes = np.max(y_train)+1\n",
    "nb_classes = int(nb_classes)\n",
    "print(nb_classes, 'classes')\n",
    "\n",
    "Y_train = np_utils.to_categorical(y_train, nb_classes)\n",
    "Y_test = np_utils.to_categorical(y_test, nb_classes)\n",
    "print \"Example of a sentiment After categorical Encoder: \",Y_train[1]"
   ]
  },
  {
   "cell_type": "code",
   "execution_count": 271,
   "metadata": {
    "collapsed": false,
    "scrolled": true
   },
   "outputs": [
    {
     "name": "stdout",
     "output_type": "stream",
     "text": [
      "Vectorizing sequence data...\n",
      "[ 1.  1.  1. ...,  0.  0.  0.]\n"
     ]
    }
   ],
   "source": [
    "print(\"Vectorizing sequence data...\")\n",
    "tokenizer = Tokenizer(nb_words=max_words)\n",
    "X_train = tokenizer.sequences_to_matrix(X_train, mode=\"binary\")\n",
    "X_test = tokenizer.sequences_to_matrix(X_test, mode=\"binary\")\n",
    "\n",
    "#X_train = tokenizer.sequences_to_matrix(X_train, mode=\"count\")\n",
    "#X_test = tokenizer.sequences_to_matrix(X_test, mode=\"count\")\n",
    "print X_train[1]"
   ]
  },
  {
   "cell_type": "markdown",
   "metadata": {},
   "source": [
    "## Some parameters \n",
    "That make the model perform better or worse depending on the selection"
   ]
  },
  {
   "cell_type": "code",
   "execution_count": 272,
   "metadata": {
    "collapsed": false
   },
   "outputs": [],
   "source": [
    "max_features = 350\n",
    "maxlen = 350  # cut texts after this number of words (among top max_features most common words)\n",
    "batch_size = 64\n",
    "max_words = w_tokens+1 # you should run it for the first time anc copy the value of mismatch dimension [1] (32,15101)x(11501,64)->(32,64)\n",
    "nb_epoch = 300\n",
    "value_dense = 64\n",
    "drop_layer = 0.5\n",
    "##\n",
    "# BatchNormalization\n",
    "# Normalize the activations of the previous layer at each batch, \n",
    "# i.e. applies a transformation that maintains the mean activation \n",
    "# close to 0 and the activation standard deviation close to 1.\n",
    "#\n",
    "##\n",
    "b_norm = 1\n",
    "extra_layers = 5"
   ]
  },
  {
   "cell_type": "markdown",
   "metadata": {},
   "source": [
    "![alt_text](http://scs.ryerson.ca/~aharley/neural-networks/images/fcn_visualization7_big.png \"_\")"
   ]
  },
  {
   "cell_type": "markdown",
   "metadata": {},
   "source": [
    "## Building the Actual Model "
   ]
  },
  {
   "cell_type": "code",
   "execution_count": 273,
   "metadata": {
    "collapsed": false
   },
   "outputs": [
    {
     "name": "stdout",
     "output_type": "stream",
     "text": [
      "Building model...\n"
     ]
    }
   ],
   "source": [
    "print(\"Building model...\")\n",
    "model = Sequential()\n",
    "model.add(Dense(value_dense, input_shape=(max_words,)))\n",
    "model.add(Activation('relu'))\n",
    "if(b_norm):\n",
    "    model.add(BatchNormalization())\n",
    "model.add(Dropout(drop_layer))\n",
    "    \n",
    "for i in range(extra_layers):\n",
    "    model.add(Dense((value_dense), input_shape=(max_words,)))\n",
    "    model.add(Activation('relu'))\n",
    "    if(b_norm):\n",
    "        model.add(BatchNormalization())\n",
    "    model.add(Dropout((drop_layer)))\n",
    "    \n",
    "model.add(Dense(nb_classes))\n",
    "model.add(Activation('softmax')) #softmax\n",
    "# this is to use Stochastic Gradiend Decendant\n",
    "sgd = SGD(lr=0.1, decay=1e-6, momentum=0.95, nesterov=True)\n",
    "model.compile(loss='categorical_crossentropy', optimizer='Adadelta') #Adadelta outperform SGD"
   ]
  },
  {
   "cell_type": "markdown",
   "metadata": {},
   "source": [
    "![alt text](http://scs.ryerson.ca/~aharley/neural-networks/images/one_target_graddescent.gif \"http://scs.ryerson.ca/~aharley/neural-networks/\")"
   ]
  },
  {
   "cell_type": "markdown",
   "metadata": {},
   "source": [
    "## Generate image of the model that we are using "
   ]
  },
  {
   "cell_type": "code",
   "execution_count": 274,
   "metadata": {
    "collapsed": false
   },
   "outputs": [
    {
     "name": "stdout",
     "output_type": "stream",
     "text": [
      "Fontconfig warning: ignoring UTF-8: not a valid region tag\n",
      "\n",
      "Fontconfig warning: ignoring UTF-8: not a valid region tag\n",
      "\n"
     ]
    },
    {
     "data": {
      "image/svg+xml": [
       "<svg height=\"1896pt\" viewBox=\"0.00 0.00 292.00 1896.00\" width=\"292pt\" xmlns=\"http://www.w3.org/2000/svg\" xmlns:xlink=\"http://www.w3.org/1999/xlink\">\n",
       "<g class=\"graph\" id=\"graph0\" transform=\"scale(1 1) rotate(0) translate(4 1892)\">\n",
       "<title>G</title>\n",
       "<polygon fill=\"white\" points=\"-4,4 -4,-1892 288,-1892 288,4 -4,4\" stroke=\"none\"/>\n",
       "<!-- layer0 -->\n",
       "<g class=\"node\" id=\"node1\"><title>layer0</title>\n",
       "<polygon fill=\"none\" points=\"53,-1 53,-37 231,-37 231,-1 53,-1\" stroke=\"black\"/>\n",
       "<text font-family=\"Times,serif\" font-size=\"14.00\" text-anchor=\"middle\" x=\"142\" y=\"-15.3\">(keras.layers.core.Activation)</text>\n",
       "</g>\n",
       "<!-- layer1 -->\n",
       "<g class=\"node\" id=\"node2\"><title>layer1</title>\n",
       "<polygon fill=\"none\" points=\"64.5,-75 64.5,-111 219.5,-111 219.5,-75 64.5,-75\" stroke=\"black\"/>\n",
       "<text font-family=\"Times,serif\" font-size=\"14.00\" text-anchor=\"middle\" x=\"142\" y=\"-89.3\">(keras.layers.core.Dense)</text>\n",
       "</g>\n",
       "<!-- layer1&#45;&gt;layer0 -->\n",
       "<g class=\"edge\" id=\"edge1\"><title>layer1-&gt;layer0</title>\n",
       "<path d=\"M142,-74.937C142,-66.8072 142,-56.8761 142,-47.7047\" fill=\"none\" stroke=\"black\"/>\n",
       "<polygon fill=\"black\" points=\"145.5,-47.4406 142,-37.4407 138.5,-47.4407 145.5,-47.4406\" stroke=\"black\"/>\n",
       "</g>\n",
       "<!-- layer2 -->\n",
       "<g class=\"node\" id=\"node3\"><title>layer2</title>\n",
       "<polygon fill=\"none\" points=\"59,-149 59,-185 225,-185 225,-149 59,-149\" stroke=\"black\"/>\n",
       "<text font-family=\"Times,serif\" font-size=\"14.00\" text-anchor=\"middle\" x=\"142\" y=\"-163.3\">(keras.layers.core.Dropout)</text>\n",
       "</g>\n",
       "<!-- layer2&#45;&gt;layer1 -->\n",
       "<g class=\"edge\" id=\"edge2\"><title>layer2-&gt;layer1</title>\n",
       "<path d=\"M142,-148.937C142,-140.807 142,-130.876 142,-121.705\" fill=\"none\" stroke=\"black\"/>\n",
       "<polygon fill=\"black\" points=\"145.5,-121.441 142,-111.441 138.5,-121.441 145.5,-121.441\" stroke=\"black\"/>\n",
       "</g>\n",
       "<!-- layer3 -->\n",
       "<g class=\"node\" id=\"node4\"><title>layer3</title>\n",
       "<polygon fill=\"none\" points=\"0,-223 0,-259 284,-259 284,-223 0,-223\" stroke=\"black\"/>\n",
       "<text font-family=\"Times,serif\" font-size=\"14.00\" text-anchor=\"middle\" x=\"142\" y=\"-237.3\">(keras.layers.normalization.BatchNormalization)</text>\n",
       "</g>\n",
       "<!-- layer3&#45;&gt;layer2 -->\n",
       "<g class=\"edge\" id=\"edge3\"><title>layer3-&gt;layer2</title>\n",
       "<path d=\"M142,-222.937C142,-214.807 142,-204.876 142,-195.705\" fill=\"none\" stroke=\"black\"/>\n",
       "<polygon fill=\"black\" points=\"145.5,-195.441 142,-185.441 138.5,-195.441 145.5,-195.441\" stroke=\"black\"/>\n",
       "</g>\n",
       "<!-- layer4 -->\n",
       "<g class=\"node\" id=\"node5\"><title>layer4</title>\n",
       "<polygon fill=\"none\" points=\"53,-297 53,-333 231,-333 231,-297 53,-297\" stroke=\"black\"/>\n",
       "<text font-family=\"Times,serif\" font-size=\"14.00\" text-anchor=\"middle\" x=\"142\" y=\"-311.3\">(keras.layers.core.Activation)</text>\n",
       "</g>\n",
       "<!-- layer4&#45;&gt;layer3 -->\n",
       "<g class=\"edge\" id=\"edge4\"><title>layer4-&gt;layer3</title>\n",
       "<path d=\"M142,-296.937C142,-288.807 142,-278.876 142,-269.705\" fill=\"none\" stroke=\"black\"/>\n",
       "<polygon fill=\"black\" points=\"145.5,-269.441 142,-259.441 138.5,-269.441 145.5,-269.441\" stroke=\"black\"/>\n",
       "</g>\n",
       "<!-- layer5 -->\n",
       "<g class=\"node\" id=\"node6\"><title>layer5</title>\n",
       "<polygon fill=\"none\" points=\"64.5,-371 64.5,-407 219.5,-407 219.5,-371 64.5,-371\" stroke=\"black\"/>\n",
       "<text font-family=\"Times,serif\" font-size=\"14.00\" text-anchor=\"middle\" x=\"142\" y=\"-385.3\">(keras.layers.core.Dense)</text>\n",
       "</g>\n",
       "<!-- layer5&#45;&gt;layer4 -->\n",
       "<g class=\"edge\" id=\"edge5\"><title>layer5-&gt;layer4</title>\n",
       "<path d=\"M142,-370.937C142,-362.807 142,-352.876 142,-343.705\" fill=\"none\" stroke=\"black\"/>\n",
       "<polygon fill=\"black\" points=\"145.5,-343.441 142,-333.441 138.5,-343.441 145.5,-343.441\" stroke=\"black\"/>\n",
       "</g>\n",
       "<!-- layer6 -->\n",
       "<g class=\"node\" id=\"node7\"><title>layer6</title>\n",
       "<polygon fill=\"none\" points=\"59,-445 59,-481 225,-481 225,-445 59,-445\" stroke=\"black\"/>\n",
       "<text font-family=\"Times,serif\" font-size=\"14.00\" text-anchor=\"middle\" x=\"142\" y=\"-459.3\">(keras.layers.core.Dropout)</text>\n",
       "</g>\n",
       "<!-- layer6&#45;&gt;layer5 -->\n",
       "<g class=\"edge\" id=\"edge6\"><title>layer6-&gt;layer5</title>\n",
       "<path d=\"M142,-444.937C142,-436.807 142,-426.876 142,-417.705\" fill=\"none\" stroke=\"black\"/>\n",
       "<polygon fill=\"black\" points=\"145.5,-417.441 142,-407.441 138.5,-417.441 145.5,-417.441\" stroke=\"black\"/>\n",
       "</g>\n",
       "<!-- layer7 -->\n",
       "<g class=\"node\" id=\"node8\"><title>layer7</title>\n",
       "<polygon fill=\"none\" points=\"0,-519 0,-555 284,-555 284,-519 0,-519\" stroke=\"black\"/>\n",
       "<text font-family=\"Times,serif\" font-size=\"14.00\" text-anchor=\"middle\" x=\"142\" y=\"-533.3\">(keras.layers.normalization.BatchNormalization)</text>\n",
       "</g>\n",
       "<!-- layer7&#45;&gt;layer6 -->\n",
       "<g class=\"edge\" id=\"edge7\"><title>layer7-&gt;layer6</title>\n",
       "<path d=\"M142,-518.937C142,-510.807 142,-500.876 142,-491.705\" fill=\"none\" stroke=\"black\"/>\n",
       "<polygon fill=\"black\" points=\"145.5,-491.441 142,-481.441 138.5,-491.441 145.5,-491.441\" stroke=\"black\"/>\n",
       "</g>\n",
       "<!-- layer8 -->\n",
       "<g class=\"node\" id=\"node9\"><title>layer8</title>\n",
       "<polygon fill=\"none\" points=\"53,-593 53,-629 231,-629 231,-593 53,-593\" stroke=\"black\"/>\n",
       "<text font-family=\"Times,serif\" font-size=\"14.00\" text-anchor=\"middle\" x=\"142\" y=\"-607.3\">(keras.layers.core.Activation)</text>\n",
       "</g>\n",
       "<!-- layer8&#45;&gt;layer7 -->\n",
       "<g class=\"edge\" id=\"edge8\"><title>layer8-&gt;layer7</title>\n",
       "<path d=\"M142,-592.937C142,-584.807 142,-574.876 142,-565.705\" fill=\"none\" stroke=\"black\"/>\n",
       "<polygon fill=\"black\" points=\"145.5,-565.441 142,-555.441 138.5,-565.441 145.5,-565.441\" stroke=\"black\"/>\n",
       "</g>\n",
       "<!-- layer9 -->\n",
       "<g class=\"node\" id=\"node10\"><title>layer9</title>\n",
       "<polygon fill=\"none\" points=\"64.5,-667 64.5,-703 219.5,-703 219.5,-667 64.5,-667\" stroke=\"black\"/>\n",
       "<text font-family=\"Times,serif\" font-size=\"14.00\" text-anchor=\"middle\" x=\"142\" y=\"-681.3\">(keras.layers.core.Dense)</text>\n",
       "</g>\n",
       "<!-- layer9&#45;&gt;layer8 -->\n",
       "<g class=\"edge\" id=\"edge9\"><title>layer9-&gt;layer8</title>\n",
       "<path d=\"M142,-666.937C142,-658.807 142,-648.876 142,-639.705\" fill=\"none\" stroke=\"black\"/>\n",
       "<polygon fill=\"black\" points=\"145.5,-639.441 142,-629.441 138.5,-639.441 145.5,-639.441\" stroke=\"black\"/>\n",
       "</g>\n",
       "<!-- layer10 -->\n",
       "<g class=\"node\" id=\"node11\"><title>layer10</title>\n",
       "<polygon fill=\"none\" points=\"59,-741 59,-777 225,-777 225,-741 59,-741\" stroke=\"black\"/>\n",
       "<text font-family=\"Times,serif\" font-size=\"14.00\" text-anchor=\"middle\" x=\"142\" y=\"-755.3\">(keras.layers.core.Dropout)</text>\n",
       "</g>\n",
       "<!-- layer10&#45;&gt;layer9 -->\n",
       "<g class=\"edge\" id=\"edge10\"><title>layer10-&gt;layer9</title>\n",
       "<path d=\"M142,-740.937C142,-732.807 142,-722.876 142,-713.705\" fill=\"none\" stroke=\"black\"/>\n",
       "<polygon fill=\"black\" points=\"145.5,-713.441 142,-703.441 138.5,-713.441 145.5,-713.441\" stroke=\"black\"/>\n",
       "</g>\n",
       "<!-- layer11 -->\n",
       "<g class=\"node\" id=\"node12\"><title>layer11</title>\n",
       "<polygon fill=\"none\" points=\"0,-815 0,-851 284,-851 284,-815 0,-815\" stroke=\"black\"/>\n",
       "<text font-family=\"Times,serif\" font-size=\"14.00\" text-anchor=\"middle\" x=\"142\" y=\"-829.3\">(keras.layers.normalization.BatchNormalization)</text>\n",
       "</g>\n",
       "<!-- layer11&#45;&gt;layer10 -->\n",
       "<g class=\"edge\" id=\"edge11\"><title>layer11-&gt;layer10</title>\n",
       "<path d=\"M142,-814.937C142,-806.807 142,-796.876 142,-787.705\" fill=\"none\" stroke=\"black\"/>\n",
       "<polygon fill=\"black\" points=\"145.5,-787.441 142,-777.441 138.5,-787.441 145.5,-787.441\" stroke=\"black\"/>\n",
       "</g>\n",
       "<!-- layer12 -->\n",
       "<g class=\"node\" id=\"node13\"><title>layer12</title>\n",
       "<polygon fill=\"none\" points=\"53,-889 53,-925 231,-925 231,-889 53,-889\" stroke=\"black\"/>\n",
       "<text font-family=\"Times,serif\" font-size=\"14.00\" text-anchor=\"middle\" x=\"142\" y=\"-903.3\">(keras.layers.core.Activation)</text>\n",
       "</g>\n",
       "<!-- layer12&#45;&gt;layer11 -->\n",
       "<g class=\"edge\" id=\"edge12\"><title>layer12-&gt;layer11</title>\n",
       "<path d=\"M142,-888.937C142,-880.807 142,-870.876 142,-861.705\" fill=\"none\" stroke=\"black\"/>\n",
       "<polygon fill=\"black\" points=\"145.5,-861.441 142,-851.441 138.5,-861.441 145.5,-861.441\" stroke=\"black\"/>\n",
       "</g>\n",
       "<!-- layer13 -->\n",
       "<g class=\"node\" id=\"node14\"><title>layer13</title>\n",
       "<polygon fill=\"none\" points=\"64.5,-963 64.5,-999 219.5,-999 219.5,-963 64.5,-963\" stroke=\"black\"/>\n",
       "<text font-family=\"Times,serif\" font-size=\"14.00\" text-anchor=\"middle\" x=\"142\" y=\"-977.3\">(keras.layers.core.Dense)</text>\n",
       "</g>\n",
       "<!-- layer13&#45;&gt;layer12 -->\n",
       "<g class=\"edge\" id=\"edge13\"><title>layer13-&gt;layer12</title>\n",
       "<path d=\"M142,-962.937C142,-954.807 142,-944.876 142,-935.705\" fill=\"none\" stroke=\"black\"/>\n",
       "<polygon fill=\"black\" points=\"145.5,-935.441 142,-925.441 138.5,-935.441 145.5,-935.441\" stroke=\"black\"/>\n",
       "</g>\n",
       "<!-- layer14 -->\n",
       "<g class=\"node\" id=\"node15\"><title>layer14</title>\n",
       "<polygon fill=\"none\" points=\"59,-1037 59,-1073 225,-1073 225,-1037 59,-1037\" stroke=\"black\"/>\n",
       "<text font-family=\"Times,serif\" font-size=\"14.00\" text-anchor=\"middle\" x=\"142\" y=\"-1051.3\">(keras.layers.core.Dropout)</text>\n",
       "</g>\n",
       "<!-- layer14&#45;&gt;layer13 -->\n",
       "<g class=\"edge\" id=\"edge14\"><title>layer14-&gt;layer13</title>\n",
       "<path d=\"M142,-1036.94C142,-1028.81 142,-1018.88 142,-1009.7\" fill=\"none\" stroke=\"black\"/>\n",
       "<polygon fill=\"black\" points=\"145.5,-1009.44 142,-999.441 138.5,-1009.44 145.5,-1009.44\" stroke=\"black\"/>\n",
       "</g>\n",
       "<!-- layer15 -->\n",
       "<g class=\"node\" id=\"node16\"><title>layer15</title>\n",
       "<polygon fill=\"none\" points=\"0,-1111 0,-1147 284,-1147 284,-1111 0,-1111\" stroke=\"black\"/>\n",
       "<text font-family=\"Times,serif\" font-size=\"14.00\" text-anchor=\"middle\" x=\"142\" y=\"-1125.3\">(keras.layers.normalization.BatchNormalization)</text>\n",
       "</g>\n",
       "<!-- layer15&#45;&gt;layer14 -->\n",
       "<g class=\"edge\" id=\"edge15\"><title>layer15-&gt;layer14</title>\n",
       "<path d=\"M142,-1110.94C142,-1102.81 142,-1092.88 142,-1083.7\" fill=\"none\" stroke=\"black\"/>\n",
       "<polygon fill=\"black\" points=\"145.5,-1083.44 142,-1073.44 138.5,-1083.44 145.5,-1083.44\" stroke=\"black\"/>\n",
       "</g>\n",
       "<!-- layer16 -->\n",
       "<g class=\"node\" id=\"node17\"><title>layer16</title>\n",
       "<polygon fill=\"none\" points=\"53,-1185 53,-1221 231,-1221 231,-1185 53,-1185\" stroke=\"black\"/>\n",
       "<text font-family=\"Times,serif\" font-size=\"14.00\" text-anchor=\"middle\" x=\"142\" y=\"-1199.3\">(keras.layers.core.Activation)</text>\n",
       "</g>\n",
       "<!-- layer16&#45;&gt;layer15 -->\n",
       "<g class=\"edge\" id=\"edge16\"><title>layer16-&gt;layer15</title>\n",
       "<path d=\"M142,-1184.94C142,-1176.81 142,-1166.88 142,-1157.7\" fill=\"none\" stroke=\"black\"/>\n",
       "<polygon fill=\"black\" points=\"145.5,-1157.44 142,-1147.44 138.5,-1157.44 145.5,-1157.44\" stroke=\"black\"/>\n",
       "</g>\n",
       "<!-- layer17 -->\n",
       "<g class=\"node\" id=\"node18\"><title>layer17</title>\n",
       "<polygon fill=\"none\" points=\"64.5,-1259 64.5,-1295 219.5,-1295 219.5,-1259 64.5,-1259\" stroke=\"black\"/>\n",
       "<text font-family=\"Times,serif\" font-size=\"14.00\" text-anchor=\"middle\" x=\"142\" y=\"-1273.3\">(keras.layers.core.Dense)</text>\n",
       "</g>\n",
       "<!-- layer17&#45;&gt;layer16 -->\n",
       "<g class=\"edge\" id=\"edge17\"><title>layer17-&gt;layer16</title>\n",
       "<path d=\"M142,-1258.94C142,-1250.81 142,-1240.88 142,-1231.7\" fill=\"none\" stroke=\"black\"/>\n",
       "<polygon fill=\"black\" points=\"145.5,-1231.44 142,-1221.44 138.5,-1231.44 145.5,-1231.44\" stroke=\"black\"/>\n",
       "</g>\n",
       "<!-- layer18 -->\n",
       "<g class=\"node\" id=\"node19\"><title>layer18</title>\n",
       "<polygon fill=\"none\" points=\"59,-1333 59,-1369 225,-1369 225,-1333 59,-1333\" stroke=\"black\"/>\n",
       "<text font-family=\"Times,serif\" font-size=\"14.00\" text-anchor=\"middle\" x=\"142\" y=\"-1347.3\">(keras.layers.core.Dropout)</text>\n",
       "</g>\n",
       "<!-- layer18&#45;&gt;layer17 -->\n",
       "<g class=\"edge\" id=\"edge18\"><title>layer18-&gt;layer17</title>\n",
       "<path d=\"M142,-1332.94C142,-1324.81 142,-1314.88 142,-1305.7\" fill=\"none\" stroke=\"black\"/>\n",
       "<polygon fill=\"black\" points=\"145.5,-1305.44 142,-1295.44 138.5,-1305.44 145.5,-1305.44\" stroke=\"black\"/>\n",
       "</g>\n",
       "<!-- layer19 -->\n",
       "<g class=\"node\" id=\"node20\"><title>layer19</title>\n",
       "<polygon fill=\"none\" points=\"0,-1407 0,-1443 284,-1443 284,-1407 0,-1407\" stroke=\"black\"/>\n",
       "<text font-family=\"Times,serif\" font-size=\"14.00\" text-anchor=\"middle\" x=\"142\" y=\"-1421.3\">(keras.layers.normalization.BatchNormalization)</text>\n",
       "</g>\n",
       "<!-- layer19&#45;&gt;layer18 -->\n",
       "<g class=\"edge\" id=\"edge19\"><title>layer19-&gt;layer18</title>\n",
       "<path d=\"M142,-1406.94C142,-1398.81 142,-1388.88 142,-1379.7\" fill=\"none\" stroke=\"black\"/>\n",
       "<polygon fill=\"black\" points=\"145.5,-1379.44 142,-1369.44 138.5,-1379.44 145.5,-1379.44\" stroke=\"black\"/>\n",
       "</g>\n",
       "<!-- layer20 -->\n",
       "<g class=\"node\" id=\"node21\"><title>layer20</title>\n",
       "<polygon fill=\"none\" points=\"53,-1481 53,-1517 231,-1517 231,-1481 53,-1481\" stroke=\"black\"/>\n",
       "<text font-family=\"Times,serif\" font-size=\"14.00\" text-anchor=\"middle\" x=\"142\" y=\"-1495.3\">(keras.layers.core.Activation)</text>\n",
       "</g>\n",
       "<!-- layer20&#45;&gt;layer19 -->\n",
       "<g class=\"edge\" id=\"edge20\"><title>layer20-&gt;layer19</title>\n",
       "<path d=\"M142,-1480.94C142,-1472.81 142,-1462.88 142,-1453.7\" fill=\"none\" stroke=\"black\"/>\n",
       "<polygon fill=\"black\" points=\"145.5,-1453.44 142,-1443.44 138.5,-1453.44 145.5,-1453.44\" stroke=\"black\"/>\n",
       "</g>\n",
       "<!-- layer21 -->\n",
       "<g class=\"node\" id=\"node22\"><title>layer21</title>\n",
       "<polygon fill=\"none\" points=\"64.5,-1555 64.5,-1591 219.5,-1591 219.5,-1555 64.5,-1555\" stroke=\"black\"/>\n",
       "<text font-family=\"Times,serif\" font-size=\"14.00\" text-anchor=\"middle\" x=\"142\" y=\"-1569.3\">(keras.layers.core.Dense)</text>\n",
       "</g>\n",
       "<!-- layer21&#45;&gt;layer20 -->\n",
       "<g class=\"edge\" id=\"edge21\"><title>layer21-&gt;layer20</title>\n",
       "<path d=\"M142,-1554.94C142,-1546.81 142,-1536.88 142,-1527.7\" fill=\"none\" stroke=\"black\"/>\n",
       "<polygon fill=\"black\" points=\"145.5,-1527.44 142,-1517.44 138.5,-1527.44 145.5,-1527.44\" stroke=\"black\"/>\n",
       "</g>\n",
       "<!-- layer22 -->\n",
       "<g class=\"node\" id=\"node23\"><title>layer22</title>\n",
       "<polygon fill=\"none\" points=\"59,-1629 59,-1665 225,-1665 225,-1629 59,-1629\" stroke=\"black\"/>\n",
       "<text font-family=\"Times,serif\" font-size=\"14.00\" text-anchor=\"middle\" x=\"142\" y=\"-1643.3\">(keras.layers.core.Dropout)</text>\n",
       "</g>\n",
       "<!-- layer22&#45;&gt;layer21 -->\n",
       "<g class=\"edge\" id=\"edge22\"><title>layer22-&gt;layer21</title>\n",
       "<path d=\"M142,-1628.94C142,-1620.81 142,-1610.88 142,-1601.7\" fill=\"none\" stroke=\"black\"/>\n",
       "<polygon fill=\"black\" points=\"145.5,-1601.44 142,-1591.44 138.5,-1601.44 145.5,-1601.44\" stroke=\"black\"/>\n",
       "</g>\n",
       "<!-- layer23 -->\n",
       "<g class=\"node\" id=\"node24\"><title>layer23</title>\n",
       "<polygon fill=\"none\" points=\"0,-1703 0,-1739 284,-1739 284,-1703 0,-1703\" stroke=\"black\"/>\n",
       "<text font-family=\"Times,serif\" font-size=\"14.00\" text-anchor=\"middle\" x=\"142\" y=\"-1717.3\">(keras.layers.normalization.BatchNormalization)</text>\n",
       "</g>\n",
       "<!-- layer23&#45;&gt;layer22 -->\n",
       "<g class=\"edge\" id=\"edge23\"><title>layer23-&gt;layer22</title>\n",
       "<path d=\"M142,-1702.94C142,-1694.81 142,-1684.88 142,-1675.7\" fill=\"none\" stroke=\"black\"/>\n",
       "<polygon fill=\"black\" points=\"145.5,-1675.44 142,-1665.44 138.5,-1675.44 145.5,-1675.44\" stroke=\"black\"/>\n",
       "</g>\n",
       "<!-- layer24 -->\n",
       "<g class=\"node\" id=\"node25\"><title>layer24</title>\n",
       "<polygon fill=\"none\" points=\"53,-1777 53,-1813 231,-1813 231,-1777 53,-1777\" stroke=\"black\"/>\n",
       "<text font-family=\"Times,serif\" font-size=\"14.00\" text-anchor=\"middle\" x=\"142\" y=\"-1791.3\">(keras.layers.core.Activation)</text>\n",
       "</g>\n",
       "<!-- layer24&#45;&gt;layer23 -->\n",
       "<g class=\"edge\" id=\"edge24\"><title>layer24-&gt;layer23</title>\n",
       "<path d=\"M142,-1776.94C142,-1768.81 142,-1758.88 142,-1749.7\" fill=\"none\" stroke=\"black\"/>\n",
       "<polygon fill=\"black\" points=\"145.5,-1749.44 142,-1739.44 138.5,-1749.44 145.5,-1749.44\" stroke=\"black\"/>\n",
       "</g>\n",
       "<!-- layer25 -->\n",
       "<g class=\"node\" id=\"node26\"><title>layer25</title>\n",
       "<polygon fill=\"none\" points=\"64.5,-1851 64.5,-1887 219.5,-1887 219.5,-1851 64.5,-1851\" stroke=\"black\"/>\n",
       "<text font-family=\"Times,serif\" font-size=\"14.00\" text-anchor=\"middle\" x=\"142\" y=\"-1865.3\">(keras.layers.core.Dense)</text>\n",
       "</g>\n",
       "<!-- layer25&#45;&gt;layer24 -->\n",
       "<g class=\"edge\" id=\"edge25\"><title>layer25-&gt;layer24</title>\n",
       "<path d=\"M142,-1850.94C142,-1842.81 142,-1832.88 142,-1823.7\" fill=\"none\" stroke=\"black\"/>\n",
       "<polygon fill=\"black\" points=\"145.5,-1823.44 142,-1813.44 138.5,-1823.44 145.5,-1823.44\" stroke=\"black\"/>\n",
       "</g>\n",
       "</g>\n",
       "</svg>"
      ],
      "text/plain": [
       "<IPython.core.display.SVG object>"
      ]
     },
     "execution_count": 274,
     "metadata": {},
     "output_type": "execute_result"
    }
   ],
   "source": [
    "from keras.utils.visualize_util import plot\n",
    "plot(model, to_file='model.png')\n",
    "from IPython.display import SVG\n",
    "from keras.utils.visualize_util import to_graph\n",
    "SVG(to_graph(model).create(prog='dot', format='svg'))"
   ]
  },
  {
   "cell_type": "code",
   "execution_count": 275,
   "metadata": {
    "collapsed": false
   },
   "outputs": [
    {
     "name": "stdout",
     "output_type": "stream",
     "text": [
      "Train on 10540 samples, validate on 1172 samples\n",
      "Epoch 1/300\n",
      "10540/10540 [==============================] - 2s - loss: 0.9223 - acc: 0.6252 - val_loss: 0.8101 - val_acc: 0.6109\n",
      "Epoch 2/300\n",
      "10540/10540 [==============================] - 2s - loss: 0.7667 - acc: 0.6589 - val_loss: 0.6405 - val_acc: 0.7253\n",
      "Epoch 3/300\n",
      "10540/10540 [==============================] - 2s - loss: 0.6682 - acc: 0.7071 - val_loss: 0.5829 - val_acc: 0.7449\n",
      "Epoch 4/300\n",
      "10540/10540 [==============================] - 2s - loss: 0.6160 - acc: 0.7344 - val_loss: 0.5696 - val_acc: 0.7534\n",
      "Epoch 5/300\n",
      "10540/10540 [==============================] - 2s - loss: 0.5795 - acc: 0.7582 - val_loss: 0.5889 - val_acc: 0.7833\n",
      "Epoch 6/300\n",
      "10540/10540 [==============================] - 2s - loss: 0.5455 - acc: 0.7778 - val_loss: 0.5636 - val_acc: 0.7560\n",
      "Epoch 7/300\n",
      "10540/10540 [==============================] - 2s - loss: 0.5126 - acc: 0.8014 - val_loss: 0.5700 - val_acc: 0.7944\n",
      "Epoch 8/300\n",
      "10540/10540 [==============================] - 2s - loss: 0.4877 - acc: 0.8111 - val_loss: 0.5538 - val_acc: 0.8072\n",
      "Epoch 9/300\n",
      "10540/10540 [==============================] - 2s - loss: 0.4575 - acc: 0.8275 - val_loss: 0.6279 - val_acc: 0.7910\n",
      "Epoch 10/300\n",
      "10540/10540 [==============================] - 2s - loss: 0.4242 - acc: 0.8492 - val_loss: 0.5694 - val_acc: 0.7952\n",
      "Epoch 11/300\n",
      "10540/10540 [==============================] - 2s - loss: 0.4098 - acc: 0.8528 - val_loss: 0.5750 - val_acc: 0.8020\n",
      "Epoch 12/300\n",
      "10540/10540 [==============================] - 2s - loss: 0.3792 - acc: 0.8703 - val_loss: 0.5736 - val_acc: 0.8046\n",
      "Epoch 13/300\n",
      "10540/10540 [==============================] - 2s - loss: 0.3576 - acc: 0.8748 - val_loss: 0.5795 - val_acc: 0.8072\n",
      "Epoch 14/300\n",
      "10496/10540 [============================>.] - ETA: 0s - loss: 0.3408 - acc: 0.8828Epoch 00013: early stopping\n",
      "10540/10540 [==============================] - 2s - loss: 0.3408 - acc: 0.8829 - val_loss: 0.5774 - val_acc: 0.8029\n",
      "2928/2928 [==============================] - 0s     \n",
      "('Test score:', 0.63682733826298532)\n",
      "('Test accuracy: 78.79', '%')\n",
      "2928/2928 [==============================] - 0s     \n",
      "2928/2928 [==============================] - 0s     \n"
     ]
    }
   ],
   "source": [
    "history = History()\n",
    "early_stopping = EarlyStopping(patience=5, verbose=1)\n",
    "model.fit(X_train, Y_train, nb_epoch=nb_epoch, batch_size=batch_size, verbose=1, \n",
    "          show_accuracy=True, validation_split=0.1, callbacks=[history,early_stopping])\n",
    "score = model.evaluate(X_test, Y_test, batch_size=batch_size, verbose=1, show_accuracy=True)\n",
    "print('Test score:', score[0])\n",
    "print('Test accuracy: %.2f' % (score[1]*100),\"%\")\n",
    "#print \"history.history\",history.totals\n",
    "classes = model.predict_classes(X_test, batch_size=32)\n",
    "proba = model.predict_proba(X_test, batch_size=32)\n",
    "pred = model.predict(X_test)"
   ]
  },
  {
   "cell_type": "markdown",
   "metadata": {},
   "source": [
    "## Evaluate your Results"
   ]
  },
  {
   "cell_type": "code",
   "execution_count": 276,
   "metadata": {
    "collapsed": false
   },
   "outputs": [
    {
     "name": "stdout",
     "output_type": "stream",
     "text": [
      "('mean_squared_error', 0.11063677490305002)\n",
      "[[1612  180   58]\n",
      " [ 164  368   65]\n",
      " [  77   77  327]]\n"
     ]
    }
   ],
   "source": [
    "\n",
    "print(\"mean_squared_error\",mean_squared_error(Y_test, pred)) \n",
    "cm = metrics.confusion_matrix(y_test, classes) \n",
    "print(cm)"
   ]
  },
  {
   "cell_type": "code",
   "execution_count": 277,
   "metadata": {
    "collapsed": false
   },
   "outputs": [
    {
     "data": {
      "image/png": "[encoded data removed]",
      "text/plain": [
       "<matplotlib.figure.Figure at 0x7f984e38a5d0>"
      ]
     },
     "metadata": {},
     "output_type": "display_data"
    },
    {
     "name": "stdout",
     "output_type": "stream",
     "text": [
      "             precision    recall  f1-score   support\n",
      "\n",
      "          0       0.87      0.87      0.87      1850\n",
      "          1       0.59      0.62      0.60       597\n",
      "          2       0.73      0.68      0.70       481\n",
      "\n",
      "avg / total       0.79      0.79      0.79      2928\n",
      "\n"
     ]
    }
   ],
   "source": [
    "%matplotlib inline\n",
    "from mpl_toolkits.axes_grid.anchored_artists import AnchoredText\n",
    "\n",
    "def plot_confusion_matrix(cm, title='Confusion matrix', cmap=plt.cm.Blues):\n",
    "    plt.imshow(cm, interpolation='nearest', cmap=cmap)\n",
    "    plt.title(title)\n",
    "    plt.colorbar()\n",
    "    tick_marks = np.arange(len(classes))\n",
    "    plt.ylabel('True label')\n",
    "    plt.xlabel('Predicted label')\n",
    "\n",
    "fig = plt.figure()\n",
    "ax = plt.subplot()\n",
    "Accuracy_ = score[1]*100\n",
    "at = AnchoredText(str(Accuracy_)+\"%\",\n",
    "                      prop=dict(size=15), frameon=True,\n",
    "                      loc=2,)\n",
    "at.patch.set_boxstyle(\"round,pad=0.,rounding_size=0.5\")\n",
    "ax.add_artist(at)\n",
    "plt.ylabel('True Label')\n",
    "plt.xlabel('Predicated Label')\n",
    "plot_confusion_matrix(cm, title='Confusion Matrix')\n",
    "plt.show()\n",
    "print(metrics.classification_report(y_test, classes))"
   ]
  },
  {
   "cell_type": "code",
   "execution_count": null,
   "metadata": {
    "collapsed": true
   },
   "outputs": [],
   "source": []
  },
  {
   "cell_type": "code",
   "execution_count": null,
   "metadata": {
    "collapsed": true
   },
   "outputs": [],
   "source": []
  }
 ],
 "metadata": {
  "kernelspec": {
   "display_name": "Python 2",
   "language": "python",
   "name": "python2"
  },
  "language_info": {
   "codemirror_mode": {
    "name": "ipython",
    "version": 2
   },
   "file_extension": ".py",
   "mimetype": "text/x-python",
   "name": "python",
   "nbconvert_exporter": "python",
   "pygments_lexer": "ipython2",
   "version": "2.7.6"
  }
 },
 "nbformat": 4,
 "nbformat_minor": 0
}
